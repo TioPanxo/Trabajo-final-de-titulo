{
 "cells": [
  {
   "cell_type": "markdown",
   "id": "f2cbd822",
   "metadata": {},
   "source": [
    "# Seminario de titulo"
   ]
  },
  {
   "cell_type": "markdown",
   "id": "a2460219",
   "metadata": {},
   "source": [
    "## Crear soluciones (no ejecutar si no es necesario)"
   ]
  },
  {
   "cell_type": "markdown",
   "id": "8b97fac5",
   "metadata": {},
   "source": [
    "### Crear Instancias"
   ]
  },
  {
   "cell_type": "code",
   "execution_count": 3,
   "id": "c26c2291",
   "metadata": {},
   "outputs": [],
   "source": [
    "from clp.get_instance import get_uni\n",
    "\n",
    "get_uni(\"instances\",10,100)"
   ]
  },
  {
   "cell_type": "markdown",
   "id": "999bfdc7",
   "metadata": {},
   "source": [
    "### Crear soluciones solver"
   ]
  },
  {
   "cell_type": "code",
   "execution_count": 2,
   "id": "a3545cbd",
   "metadata": {},
   "outputs": [
    {
     "name": "stdout",
     "output_type": "stream",
     "text": [
      "Ejecutando: wsl /root/proyecto/solver/BSG_CLP2 -i 0 -f BR -t 5 --verbose2=5 /root/proyecto/tests/instances/instances.txt\n",
      "Ejecutando: wsl /root/proyecto/solver/BSG_CLP2 -i 1 -f BR -t 5 --verbose2=5 /root/proyecto/tests/instances/instances.txt\n",
      "Ejecutando: wsl /root/proyecto/solver/BSG_CLP2 -i 2 -f BR -t 5 --verbose2=5 /root/proyecto/tests/instances/instances.txt\n",
      "Ejecutando: wsl /root/proyecto/solver/BSG_CLP2 -i 3 -f BR -t 5 --verbose2=5 /root/proyecto/tests/instances/instances.txt\n",
      "Ejecutando: wsl /root/proyecto/solver/BSG_CLP2 -i 4 -f BR -t 5 --verbose2=5 /root/proyecto/tests/instances/instances.txt\n",
      "Ejecutando: wsl /root/proyecto/solver/BSG_CLP2 -i 5 -f BR -t 5 --verbose2=5 /root/proyecto/tests/instances/instances.txt\n",
      "Ejecutando: wsl /root/proyecto/solver/BSG_CLP2 -i 6 -f BR -t 5 --verbose2=5 /root/proyecto/tests/instances/instances.txt\n",
      "Ejecutando: wsl /root/proyecto/solver/BSG_CLP2 -i 7 -f BR -t 5 --verbose2=5 /root/proyecto/tests/instances/instances.txt\n",
      "Ejecutando: wsl /root/proyecto/solver/BSG_CLP2 -i 8 -f BR -t 5 --verbose2=5 /root/proyecto/tests/instances/instances.txt\n",
      "Ejecutando: wsl /root/proyecto/solver/BSG_CLP2 -i 9 -f BR -t 5 --verbose2=5 /root/proyecto/tests/instances/instances.txt\n",
      "Ejecutando: wsl /root/proyecto/solver/BSG_CLP2 -i 10 -f BR -t 5 --verbose2=5 /root/proyecto/tests/instances/instances.txt\n",
      "Ejecutando: wsl /root/proyecto/solver/BSG_CLP2 -i 11 -f BR -t 5 --verbose2=5 /root/proyecto/tests/instances/instances.txt\n",
      "Ejecutando: wsl /root/proyecto/solver/BSG_CLP2 -i 12 -f BR -t 5 --verbose2=5 /root/proyecto/tests/instances/instances.txt\n",
      "Ejecutando: wsl /root/proyecto/solver/BSG_CLP2 -i 13 -f BR -t 5 --verbose2=5 /root/proyecto/tests/instances/instances.txt\n",
      "Ejecutando: wsl /root/proyecto/solver/BSG_CLP2 -i 14 -f BR -t 5 --verbose2=5 /root/proyecto/tests/instances/instances.txt\n",
      "Ejecutando: wsl /root/proyecto/solver/BSG_CLP2 -i 15 -f BR -t 5 --verbose2=5 /root/proyecto/tests/instances/instances.txt\n",
      "Ejecutando: wsl /root/proyecto/solver/BSG_CLP2 -i 16 -f BR -t 5 --verbose2=5 /root/proyecto/tests/instances/instances.txt\n",
      "Ejecutando: wsl /root/proyecto/solver/BSG_CLP2 -i 17 -f BR -t 5 --verbose2=5 /root/proyecto/tests/instances/instances.txt\n",
      "Ejecutando: wsl /root/proyecto/solver/BSG_CLP2 -i 18 -f BR -t 5 --verbose2=5 /root/proyecto/tests/instances/instances.txt\n",
      "Ejecutando: wsl /root/proyecto/solver/BSG_CLP2 -i 19 -f BR -t 5 --verbose2=5 /root/proyecto/tests/instances/instances.txt\n",
      "Ejecutando: wsl /root/proyecto/solver/BSG_CLP2 -i 20 -f BR -t 5 --verbose2=5 /root/proyecto/tests/instances/instances.txt\n",
      "Ejecutando: wsl /root/proyecto/solver/BSG_CLP2 -i 21 -f BR -t 5 --verbose2=5 /root/proyecto/tests/instances/instances.txt\n",
      "Ejecutando: wsl /root/proyecto/solver/BSG_CLP2 -i 22 -f BR -t 5 --verbose2=5 /root/proyecto/tests/instances/instances.txt\n",
      "Ejecutando: wsl /root/proyecto/solver/BSG_CLP2 -i 23 -f BR -t 5 --verbose2=5 /root/proyecto/tests/instances/instances.txt\n",
      "Ejecutando: wsl /root/proyecto/solver/BSG_CLP2 -i 24 -f BR -t 5 --verbose2=5 /root/proyecto/tests/instances/instances.txt\n",
      "Ejecutando: wsl /root/proyecto/solver/BSG_CLP2 -i 25 -f BR -t 5 --verbose2=5 /root/proyecto/tests/instances/instances.txt\n",
      "Ejecutando: wsl /root/proyecto/solver/BSG_CLP2 -i 26 -f BR -t 5 --verbose2=5 /root/proyecto/tests/instances/instances.txt\n",
      "Ejecutando: wsl /root/proyecto/solver/BSG_CLP2 -i 27 -f BR -t 5 --verbose2=5 /root/proyecto/tests/instances/instances.txt\n",
      "Ejecutando: wsl /root/proyecto/solver/BSG_CLP2 -i 28 -f BR -t 5 --verbose2=5 /root/proyecto/tests/instances/instances.txt\n",
      "Ejecutando: wsl /root/proyecto/solver/BSG_CLP2 -i 29 -f BR -t 5 --verbose2=5 /root/proyecto/tests/instances/instances.txt\n",
      "Ejecutando: wsl /root/proyecto/solver/BSG_CLP2 -i 30 -f BR -t 5 --verbose2=5 /root/proyecto/tests/instances/instances.txt\n",
      "Ejecutando: wsl /root/proyecto/solver/BSG_CLP2 -i 31 -f BR -t 5 --verbose2=5 /root/proyecto/tests/instances/instances.txt\n",
      "Ejecutando: wsl /root/proyecto/solver/BSG_CLP2 -i 32 -f BR -t 5 --verbose2=5 /root/proyecto/tests/instances/instances.txt\n",
      "Ejecutando: wsl /root/proyecto/solver/BSG_CLP2 -i 33 -f BR -t 5 --verbose2=5 /root/proyecto/tests/instances/instances.txt\n",
      "Ejecutando: wsl /root/proyecto/solver/BSG_CLP2 -i 34 -f BR -t 5 --verbose2=5 /root/proyecto/tests/instances/instances.txt\n",
      "Ejecutando: wsl /root/proyecto/solver/BSG_CLP2 -i 35 -f BR -t 5 --verbose2=5 /root/proyecto/tests/instances/instances.txt\n",
      "Ejecutando: wsl /root/proyecto/solver/BSG_CLP2 -i 36 -f BR -t 5 --verbose2=5 /root/proyecto/tests/instances/instances.txt\n",
      "Ejecutando: wsl /root/proyecto/solver/BSG_CLP2 -i 37 -f BR -t 5 --verbose2=5 /root/proyecto/tests/instances/instances.txt\n",
      "Ejecutando: wsl /root/proyecto/solver/BSG_CLP2 -i 38 -f BR -t 5 --verbose2=5 /root/proyecto/tests/instances/instances.txt\n",
      "Ejecutando: wsl /root/proyecto/solver/BSG_CLP2 -i 39 -f BR -t 5 --verbose2=5 /root/proyecto/tests/instances/instances.txt\n",
      "Ejecutando: wsl /root/proyecto/solver/BSG_CLP2 -i 40 -f BR -t 5 --verbose2=5 /root/proyecto/tests/instances/instances.txt\n",
      "Ejecutando: wsl /root/proyecto/solver/BSG_CLP2 -i 41 -f BR -t 5 --verbose2=5 /root/proyecto/tests/instances/instances.txt\n",
      "Ejecutando: wsl /root/proyecto/solver/BSG_CLP2 -i 42 -f BR -t 5 --verbose2=5 /root/proyecto/tests/instances/instances.txt\n",
      "Ejecutando: wsl /root/proyecto/solver/BSG_CLP2 -i 43 -f BR -t 5 --verbose2=5 /root/proyecto/tests/instances/instances.txt\n",
      "Ejecutando: wsl /root/proyecto/solver/BSG_CLP2 -i 44 -f BR -t 5 --verbose2=5 /root/proyecto/tests/instances/instances.txt\n",
      "Ejecutando: wsl /root/proyecto/solver/BSG_CLP2 -i 45 -f BR -t 5 --verbose2=5 /root/proyecto/tests/instances/instances.txt\n",
      "Ejecutando: wsl /root/proyecto/solver/BSG_CLP2 -i 46 -f BR -t 5 --verbose2=5 /root/proyecto/tests/instances/instances.txt\n",
      "Ejecutando: wsl /root/proyecto/solver/BSG_CLP2 -i 47 -f BR -t 5 --verbose2=5 /root/proyecto/tests/instances/instances.txt\n",
      "Ejecutando: wsl /root/proyecto/solver/BSG_CLP2 -i 48 -f BR -t 5 --verbose2=5 /root/proyecto/tests/instances/instances.txt\n",
      "Ejecutando: wsl /root/proyecto/solver/BSG_CLP2 -i 49 -f BR -t 5 --verbose2=5 /root/proyecto/tests/instances/instances.txt\n",
      "Ejecutando: wsl /root/proyecto/solver/BSG_CLP2 -i 50 -f BR -t 5 --verbose2=5 /root/proyecto/tests/instances/instances.txt\n",
      "Ejecutando: wsl /root/proyecto/solver/BSG_CLP2 -i 51 -f BR -t 5 --verbose2=5 /root/proyecto/tests/instances/instances.txt\n",
      "Ejecutando: wsl /root/proyecto/solver/BSG_CLP2 -i 52 -f BR -t 5 --verbose2=5 /root/proyecto/tests/instances/instances.txt\n",
      "Ejecutando: wsl /root/proyecto/solver/BSG_CLP2 -i 53 -f BR -t 5 --verbose2=5 /root/proyecto/tests/instances/instances.txt\n",
      "Ejecutando: wsl /root/proyecto/solver/BSG_CLP2 -i 54 -f BR -t 5 --verbose2=5 /root/proyecto/tests/instances/instances.txt\n",
      "Ejecutando: wsl /root/proyecto/solver/BSG_CLP2 -i 55 -f BR -t 5 --verbose2=5 /root/proyecto/tests/instances/instances.txt\n",
      "Ejecutando: wsl /root/proyecto/solver/BSG_CLP2 -i 56 -f BR -t 5 --verbose2=5 /root/proyecto/tests/instances/instances.txt\n",
      "Ejecutando: wsl /root/proyecto/solver/BSG_CLP2 -i 57 -f BR -t 5 --verbose2=5 /root/proyecto/tests/instances/instances.txt\n",
      "Ejecutando: wsl /root/proyecto/solver/BSG_CLP2 -i 58 -f BR -t 5 --verbose2=5 /root/proyecto/tests/instances/instances.txt\n",
      "Ejecutando: wsl /root/proyecto/solver/BSG_CLP2 -i 59 -f BR -t 5 --verbose2=5 /root/proyecto/tests/instances/instances.txt\n",
      "Ejecutando: wsl /root/proyecto/solver/BSG_CLP2 -i 60 -f BR -t 5 --verbose2=5 /root/proyecto/tests/instances/instances.txt\n",
      "Ejecutando: wsl /root/proyecto/solver/BSG_CLP2 -i 61 -f BR -t 5 --verbose2=5 /root/proyecto/tests/instances/instances.txt\n",
      "Ejecutando: wsl /root/proyecto/solver/BSG_CLP2 -i 62 -f BR -t 5 --verbose2=5 /root/proyecto/tests/instances/instances.txt\n",
      "Ejecutando: wsl /root/proyecto/solver/BSG_CLP2 -i 63 -f BR -t 5 --verbose2=5 /root/proyecto/tests/instances/instances.txt\n",
      "Ejecutando: wsl /root/proyecto/solver/BSG_CLP2 -i 64 -f BR -t 5 --verbose2=5 /root/proyecto/tests/instances/instances.txt\n",
      "Ejecutando: wsl /root/proyecto/solver/BSG_CLP2 -i 65 -f BR -t 5 --verbose2=5 /root/proyecto/tests/instances/instances.txt\n",
      "Ejecutando: wsl /root/proyecto/solver/BSG_CLP2 -i 66 -f BR -t 5 --verbose2=5 /root/proyecto/tests/instances/instances.txt\n",
      "Ejecutando: wsl /root/proyecto/solver/BSG_CLP2 -i 67 -f BR -t 5 --verbose2=5 /root/proyecto/tests/instances/instances.txt\n",
      "Ejecutando: wsl /root/proyecto/solver/BSG_CLP2 -i 68 -f BR -t 5 --verbose2=5 /root/proyecto/tests/instances/instances.txt\n",
      "Ejecutando: wsl /root/proyecto/solver/BSG_CLP2 -i 69 -f BR -t 5 --verbose2=5 /root/proyecto/tests/instances/instances.txt\n",
      "Ejecutando: wsl /root/proyecto/solver/BSG_CLP2 -i 70 -f BR -t 5 --verbose2=5 /root/proyecto/tests/instances/instances.txt\n",
      "Ejecutando: wsl /root/proyecto/solver/BSG_CLP2 -i 71 -f BR -t 5 --verbose2=5 /root/proyecto/tests/instances/instances.txt\n",
      "Ejecutando: wsl /root/proyecto/solver/BSG_CLP2 -i 72 -f BR -t 5 --verbose2=5 /root/proyecto/tests/instances/instances.txt\n",
      "Ejecutando: wsl /root/proyecto/solver/BSG_CLP2 -i 73 -f BR -t 5 --verbose2=5 /root/proyecto/tests/instances/instances.txt\n",
      "Ejecutando: wsl /root/proyecto/solver/BSG_CLP2 -i 74 -f BR -t 5 --verbose2=5 /root/proyecto/tests/instances/instances.txt\n",
      "Ejecutando: wsl /root/proyecto/solver/BSG_CLP2 -i 75 -f BR -t 5 --verbose2=5 /root/proyecto/tests/instances/instances.txt\n",
      "Ejecutando: wsl /root/proyecto/solver/BSG_CLP2 -i 76 -f BR -t 5 --verbose2=5 /root/proyecto/tests/instances/instances.txt\n",
      "Ejecutando: wsl /root/proyecto/solver/BSG_CLP2 -i 77 -f BR -t 5 --verbose2=5 /root/proyecto/tests/instances/instances.txt\n",
      "Ejecutando: wsl /root/proyecto/solver/BSG_CLP2 -i 78 -f BR -t 5 --verbose2=5 /root/proyecto/tests/instances/instances.txt\n",
      "Ejecutando: wsl /root/proyecto/solver/BSG_CLP2 -i 79 -f BR -t 5 --verbose2=5 /root/proyecto/tests/instances/instances.txt\n",
      "Ejecutando: wsl /root/proyecto/solver/BSG_CLP2 -i 80 -f BR -t 5 --verbose2=5 /root/proyecto/tests/instances/instances.txt\n",
      "Ejecutando: wsl /root/proyecto/solver/BSG_CLP2 -i 81 -f BR -t 5 --verbose2=5 /root/proyecto/tests/instances/instances.txt\n",
      "Ejecutando: wsl /root/proyecto/solver/BSG_CLP2 -i 82 -f BR -t 5 --verbose2=5 /root/proyecto/tests/instances/instances.txt\n",
      "Ejecutando: wsl /root/proyecto/solver/BSG_CLP2 -i 83 -f BR -t 5 --verbose2=5 /root/proyecto/tests/instances/instances.txt\n",
      "Ejecutando: wsl /root/proyecto/solver/BSG_CLP2 -i 84 -f BR -t 5 --verbose2=5 /root/proyecto/tests/instances/instances.txt\n",
      "Ejecutando: wsl /root/proyecto/solver/BSG_CLP2 -i 85 -f BR -t 5 --verbose2=5 /root/proyecto/tests/instances/instances.txt\n",
      "Ejecutando: wsl /root/proyecto/solver/BSG_CLP2 -i 86 -f BR -t 5 --verbose2=5 /root/proyecto/tests/instances/instances.txt\n",
      "Ejecutando: wsl /root/proyecto/solver/BSG_CLP2 -i 87 -f BR -t 5 --verbose2=5 /root/proyecto/tests/instances/instances.txt\n",
      "Ejecutando: wsl /root/proyecto/solver/BSG_CLP2 -i 88 -f BR -t 5 --verbose2=5 /root/proyecto/tests/instances/instances.txt\n",
      "Ejecutando: wsl /root/proyecto/solver/BSG_CLP2 -i 89 -f BR -t 5 --verbose2=5 /root/proyecto/tests/instances/instances.txt\n",
      "Ejecutando: wsl /root/proyecto/solver/BSG_CLP2 -i 90 -f BR -t 5 --verbose2=5 /root/proyecto/tests/instances/instances.txt\n",
      "Ejecutando: wsl /root/proyecto/solver/BSG_CLP2 -i 91 -f BR -t 5 --verbose2=5 /root/proyecto/tests/instances/instances.txt\n",
      "Ejecutando: wsl /root/proyecto/solver/BSG_CLP2 -i 92 -f BR -t 5 --verbose2=5 /root/proyecto/tests/instances/instances.txt\n",
      "Ejecutando: wsl /root/proyecto/solver/BSG_CLP2 -i 93 -f BR -t 5 --verbose2=5 /root/proyecto/tests/instances/instances.txt\n",
      "Ejecutando: wsl /root/proyecto/solver/BSG_CLP2 -i 94 -f BR -t 5 --verbose2=5 /root/proyecto/tests/instances/instances.txt\n",
      "Ejecutando: wsl /root/proyecto/solver/BSG_CLP2 -i 95 -f BR -t 5 --verbose2=5 /root/proyecto/tests/instances/instances.txt\n",
      "Ejecutando: wsl /root/proyecto/solver/BSG_CLP2 -i 96 -f BR -t 5 --verbose2=5 /root/proyecto/tests/instances/instances.txt\n",
      "Ejecutando: wsl /root/proyecto/solver/BSG_CLP2 -i 97 -f BR -t 5 --verbose2=5 /root/proyecto/tests/instances/instances.txt\n",
      "Ejecutando: wsl /root/proyecto/solver/BSG_CLP2 -i 98 -f BR -t 5 --verbose2=5 /root/proyecto/tests/instances/instances.txt\n",
      "Ejecutando: wsl /root/proyecto/solver/BSG_CLP2 -i 99 -f BR -t 5 --verbose2=5 /root/proyecto/tests/instances/instances.txt\n"
     ]
    }
   ],
   "source": [
    "import sys\n",
    "sys.path.append(\"c:/Users/franc/Escritorio/Trabajo-final-de-titulo/src\")\n",
    "\n",
    "from solver.get_solver_solutions import generarSolucionesSolver\n",
    "\n",
    "generarSolucionesSolver(100)"
   ]
  }
 ],
 "metadata": {
  "kernelspec": {
   "display_name": "env",
   "language": "python",
   "name": "python3"
  },
  "language_info": {
   "codemirror_mode": {
    "name": "ipython",
    "version": 3
   },
   "file_extension": ".py",
   "mimetype": "text/x-python",
   "name": "python",
   "nbconvert_exporter": "python",
   "pygments_lexer": "ipython3",
   "version": "3.11.9"
  }
 },
 "nbformat": 4,
 "nbformat_minor": 5
}
